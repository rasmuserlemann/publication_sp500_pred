{
 "cells": [
  {
   "cell_type": "code",
   "execution_count": 35,
   "metadata": {},
   "outputs": [
    {
     "name": "stdout",
     "output_type": "stream",
     "text": [
      "✅ Merged data written to: data/merged_data.csv\n"
     ]
    }
   ],
   "source": [
    "import os\n",
    "import pandas as pd\n",
    "\n",
    "# File paths\n",
    "data_path = \"data\"\n",
    "sp500_file = os.path.join(data_path, \"sp500.csv\")\n",
    "oil_file = os.path.join(data_path, \"oil.csv\")\n",
    "output_file = os.path.join(data_path, \"merged_data.csv\")\n",
    "\n",
    "# Read and preprocess SP500\n",
    "sp500 = pd.read_csv(sp500_file)\n",
    "sp500[\"timestamp\"] = pd.to_datetime(sp500[\"timestamp\"]).dt.date\n",
    "sp500 = sp500.rename(columns={col: f\"sp500_{col}\" for col in sp500.columns if col != \"timestamp\"})\n",
    "\n",
    "# Read and preprocess Oil\n",
    "oil = pd.read_csv(oil_file)\n",
    "oil[\"timestamp\"] = pd.to_datetime(oil[\"timestamp\"]).dt.date\n",
    "oil = oil.rename(columns={col: f\"oil_{col}\" for col in oil.columns if col != \"timestamp\"})\n",
    "\n",
    "# Merge\n",
    "merged = pd.merge(sp500, oil, on=\"timestamp\", how=\"outer\")\n",
    "merged.sort_values(\"timestamp\", inplace=True)\n",
    "\n",
    "# Write to file\n",
    "merged.to_csv(output_file, index=False)\n",
    "print(f\"✅ Merged file written to: {output_file}\")\n"
   ]
  }
 ],
 "metadata": {
  "kernelspec": {
   "display_name": "Python 3",
   "language": "python",
   "name": "python3"
  },
  "language_info": {
   "codemirror_mode": {
    "name": "ipython",
    "version": 3
   },
   "file_extension": ".py",
   "mimetype": "text/x-python",
   "name": "python",
   "nbconvert_exporter": "python",
   "pygments_lexer": "ipython3",
   "version": "3.10.16"
  }
 },
 "nbformat": 4,
 "nbformat_minor": 2
}
